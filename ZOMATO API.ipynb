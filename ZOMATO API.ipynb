{
 "cells": [
  {
   "cell_type": "markdown",
   "id": "7429132b",
   "metadata": {},
   "source": [
    "### Question 1\n",
    "\n",
    "Fetch the cuisine_id of ‘Mexican’ cuisine using Zomato API."
   ]
  },
  {
   "cell_type": "code",
   "execution_count": 71,
   "id": "fa3e0be2",
   "metadata": {},
   "outputs": [
    {
     "name": "stdout",
     "output_type": "stream",
     "text": [
      "73\n"
     ]
    }
   ],
   "source": [
    "import requests\n",
    "import json\n",
    "headers = {'Accept':'application/json','user-key':'627c28c07ad221c65491bbffea6f5d54'}\n",
    "url = 'https://developers.zomato.com/api/v2.1/cuisines'\n",
    "\n",
    "cuisines = requests.get(url,params = {'city_id':1},headers = headers)\n",
    "cuisines_python = json.loads(cuisines.text)\n",
    "for i in cuisines_python['cuisines']:\n",
    "    if (i['cuisine']['cuisine_name']) == 'Mexican':\n",
    "        print(i['cuisine']['cuisine_id'])"
   ]
  },
  {
   "cell_type": "markdown",
   "id": "9087aa97",
   "metadata": {},
   "source": [
    "### Question 2\n",
    "\n",
    "Fetch the entityid and entitytype of place Connaught Place.\n",
    "Print the entityid and entitytype,"
   ]
  },
  {
   "cell_type": "code",
   "execution_count": 75,
   "id": "ec38d16c",
   "metadata": {},
   "outputs": [
    {
     "name": "stdout",
     "output_type": "stream",
     "text": [
      "subzone 104\n"
     ]
    }
   ],
   "source": [
    "import requests\n",
    "import json\n",
    "\n",
    "headers = {'Accept':'application/json','user-key':'627c28c07ad221c65491bbffea6f5d54'}\n",
    "url = 'https://developers.zomato.com/api/v2.1/locations'\n",
    "\n",
    "locations = requests.get(url,params = {'query':'Connaught Place'},headers = headers)\n",
    "locations_python_data = json.loads(locations.text)\n",
    "for i in locations_python_data['location_suggestions']:\n",
    "    print(i['entity_type'],i['entity_id'])"
   ]
  },
  {
   "cell_type": "markdown",
   "id": "96bcbafb",
   "metadata": {},
   "source": [
    "### Question 3 \n",
    "\n",
    "Fetch the top 10 best-rated restaurant serving ‘Mexican’ cuisine present in Connaught Place.\n",
    "Print the restaurant name, user rating and restaurant id."
   ]
  },
  {
   "cell_type": "code",
   "execution_count": 76,
   "id": "3f2dd45b",
   "metadata": {},
   "outputs": [],
   "source": [
    "import requests\n",
    "import json\n",
    "\n",
    "headers = {'Accept':'application/json','user-key':'627c28c07ad221c65491bbffea6f5d54'}\n",
    "url = 'https://developers.zomato.com/api/v2.1/search'\n",
    "data = {'entity_id':104,'entity_type':'subzone','cuisines':73,'sort':'rating','count':10}\n",
    "top_10_mexican_cp = requests.get(url,params = data,headers = headers)\n",
    "top_10_mexican_cp_python_data = json.loads(top_10_mexican_cp.text)\n"
   ]
  },
  {
   "cell_type": "code",
   "execution_count": 77,
   "id": "0457d4e4",
   "metadata": {},
   "outputs": [
    {
     "name": "stdout",
     "output_type": "stream",
     "text": [
      "Station Bar 4.5 18851371\n",
      "Master Of Malts 4.4 18391149\n",
      "Tamasha 4.3 18238278\n",
      "Local 4.3 18382360\n",
      "The Junkyard Cafe 4.3 313256\n",
      "Ministry Of Beer 4.3 18418277\n",
      "The Darzi Bar & Kitchen 4.3 18423151\n",
      "Teddy Boy 4.3 18281985\n",
      "Xero Degrees 4.3 18729557\n",
      "Lord Of The Drinks 4.3 312603\n"
     ]
    }
   ],
   "source": [
    "for i in top_10_mexican_cp_python_data['restaurants']:\n",
    "    print(i['restaurant']['name'],i['restaurant']['user_rating']['aggregate_rating'],i['restaurant']['R']['res_id'])"
   ]
  },
  {
   "cell_type": "markdown",
   "id": "c1b02b67",
   "metadata": {},
   "source": [
    "### Question 4 \n",
    "\n",
    "Fetch the category id of category type ‘Cafes’ using Zomato API.\n",
    "Print the category_id."
   ]
  },
  {
   "cell_type": "code",
   "execution_count": 17,
   "id": "163b6f01",
   "metadata": {},
   "outputs": [
    {
     "name": "stdout",
     "output_type": "stream",
     "text": [
      "6\n"
     ]
    }
   ],
   "source": [
    "import requests\n",
    "import json\n",
    "headers = {'Accept':'application/json','user-key':'627c28c07ad221c65491bbffea6f5d54'}\n",
    "url = 'https://developers.zomato.com/api/v2.1/categories'\n",
    "\n",
    "cafes = requests.get(url,headers = headers)\n",
    "cafes_python_data = json.loads(cafes.text)\n",
    "\n",
    "for i in cafes_python_data['categories']:\n",
    "    if i['categories']['name'] == 'Cafes':\n",
    "        print(i['categories']['id'])"
   ]
  },
  {
   "cell_type": "markdown",
   "id": "4d0a44f3",
   "metadata": {},
   "source": [
    "### Question 5\n",
    "\n",
    "Fetch the best-rated restaurant for ‘Mexican’ cuisine with category type ‘ Cafes’ present in Connaught Place using Zomato API.\n",
    "Print the restaurant name, user rating and restaurant id."
   ]
  },
  {
   "cell_type": "code",
   "execution_count": 80,
   "id": "38e942af",
   "metadata": {},
   "outputs": [
    {
     "name": "stdout",
     "output_type": "stream",
     "text": [
      "Xero Degrees 4.3 18729557\n",
      "Chaayos - Meri Wali Chai 4.2 18237315\n",
      "The Art House Restaurant 3.9 18863766\n",
      "Cafe Coffee Day - The Square 3.6 303034\n"
     ]
    }
   ],
   "source": [
    "import requests\n",
    "import json\n",
    "url = 'https://developers.zomato.com/api/v2.1/search'\n",
    "headers = {'Accept':'application/json','user-key':'627c28c07ad221c65491bbffea6f5d54'}\n",
    "data = {'entity_id':104,'entity_type':'subzone','count':1,'cuisines':73,'category':6,'sort':'rating','count':10}\n",
    "best_rated_mexican_cafe = requests.get(url,params = data,headers = headers)\n",
    "best_rated_mexican_cafe_python_data = json.loads(best_rated_mexican_cafe.text)\n",
    "for i in best_rated_mexican_cafe_python_data['restaurants']:\n",
    "    print(i['restaurant']['name'],i['restaurant']['user_rating']['aggregate_rating'],i['restaurant']['R']['res_id'])\n"
   ]
  },
  {
   "cell_type": "markdown",
   "id": "70f5a647",
   "metadata": {},
   "source": [
    "### Question 6 \n",
    "\n",
    "Fetch the latest review of the best-rated restaurant for ‘Mexican’ cuisine with Category type ‘Cafes’ present in Connaught Place using Zomato API.\n",
    "Print the name of user ,user rating and review text."
   ]
  },
  {
   "cell_type": "code",
   "execution_count": 91,
   "id": "21addfd6",
   "metadata": {},
   "outputs": [
    {
     "name": "stdout",
     "output_type": "stream",
     "text": [
      "Purvi Sehgal 5 Trying peri peri fries baked nachos both are very good and cheese garlic bread its amazing love their food ambience preety lights vibes highly recommended to go their place enjoy food service is very good\n",
      "INDIAN TRAVELLER FOODIE 5 Trying xero degree with their peri peri fries, freak shake and baked nachos  Peri peri fries are masala fries with topped with cheese sauce and thousand island sauce  Nachos are baked with mozzarella cheese and salsa even shake is fully loaded love it.\n",
      "Suprit 5 \n",
      "Walkwithhamza 5 So visited this place few days back and had a great time as this place is cheap and cost effective as well as the taste is so good perfect place for students\n",
      "Ishika Tayal 5 I visited this place with my friends.  It was an amazing experience to be here. Food was really great. We ordered many things and were satisfied by their service. Really loved the cheesy fries. It's a worth visit place. Will surely visit again.\n"
     ]
    }
   ],
   "source": [
    "import requests\n",
    "import json\n",
    "headers = {'Accept':'application/json','user-key':'627c28c07ad221c65491bbffea6f5d54'}\n",
    "url = 'https://developers.zomato.com/api/v2.1/reviews'\n",
    "\n",
    "reviews = requests.get(url,params = {'res_id':18729557},headers = headers)\n",
    "reviews_python = json.loads(reviews.text)\n",
    "for i in reviews_python['user_reviews']:\n",
    "    print(i['review']['user']['name'],i['review']['rating'],i['review']['review_text'])\n",
    "\n"
   ]
  },
  {
   "cell_type": "code",
   "execution_count": null,
   "id": "e1dc74af",
   "metadata": {},
   "outputs": [],
   "source": []
  },
  {
   "cell_type": "markdown",
   "id": "8e930764",
   "metadata": {},
   "source": [
    "### Question 7\n",
    "\n",
    "Fetch the details of \"Pa Pa Ya\" restaurant (ID: 18429148) using Zomato API.\n",
    "Print the user rating, the average cost for two, cuisines and address of \"Pa Pa Ya\" restaurant."
   ]
  },
  {
   "cell_type": "code",
   "execution_count": 94,
   "id": "5e38f407",
   "metadata": {},
   "outputs": [
    {
     "name": "stdout",
     "output_type": "stream",
     "text": [
      "yes\n"
     ]
    }
   ],
   "source": [
    "import requests\n",
    "import json\n",
    "headers = {'Accept':'application/json','user-key':'627c28c07ad221c65491bbffea6f5d54'}\n",
    "url = 'https://developers.zomato.com/api/v2.1/restaurant'\n",
    "\n",
    "rest_details = requests.get(url,params = {'res_id':18429148},headers = headers)\n",
    "rest_details_python = json.loads(rest_details.text)\n",
    "if rest_details_python['is_table_reservation_supported'] == 1:\n",
    "    print('yes')\n",
    "else:\n",
    "    print('no')"
   ]
  },
  {
   "cell_type": "code",
   "execution_count": null,
   "id": "bdc59982",
   "metadata": {},
   "outputs": [],
   "source": []
  },
  {
   "cell_type": "markdown",
   "id": "df882973",
   "metadata": {},
   "source": [
    "###  Question8\n",
    "\n",
    "Find out whether online table reservation is supported in \"Pa Pa Ya\" restaurant or not using Zomato API.\n",
    "Print 'yes' if online table reservation is supported else 'no'"
   ]
  },
  {
   "cell_type": "code",
   "execution_count": 68,
   "id": "62b3a73d",
   "metadata": {},
   "outputs": [
    {
     "name": "stdout",
     "output_type": "stream",
     "text": [
      "4.6\n",
      "2500\n",
      "Asian, Chinese, Thai, Japanese, Sushi, Malaysian, Momos, Beverages\n",
      "A-3, Select Citywalk, District Centre, Saket, New Delhi\n"
     ]
    }
   ],
   "source": [
    "import requests\n",
    "import json\n",
    "headers = {'Accept':'application/json','user-key':'627c28c07ad221c65491bbffea6f5d54'}\n",
    "url = 'https://developers.zomato.com/api/v2.1/restaurant'\n",
    "\n",
    "rest_details = requests.get(url,params = {'res_id':18429148},headers = headers)\n",
    "rest_details_python = json.loads(rest_details.text)\n",
    "print(rest_details_python['user_rating']['aggregate_rating'])\n",
    "print(rest_details_python['average_cost_for_two'])\n",
    "print(rest_details_python['cuisines'])\n",
    "print(rest_details_python['location']['address'])"
   ]
  },
  {
   "cell_type": "markdown",
   "id": "29acca2b",
   "metadata": {},
   "source": [
    "### Question 9\n",
    "Fetch the latest review of \"Pa Pa Ya\" restaurant using Zomato API.\n",
    "Print the name of the user, user rating and review text."
   ]
  },
  {
   "cell_type": "code",
   "execution_count": 96,
   "id": "768c0946",
   "metadata": {},
   "outputs": [
    {
     "name": "stdout",
     "output_type": "stream",
     "text": [
      "Jitender 3 Good service and reliability are so fantastic. Fast ,Easy to order, Great service I enjoyed the food\n",
      "Kumkum 3 Pocket friendly place. Quantity of food is great!! delivery was on time with legitimate bundling....\n",
      "Sumit 3 Food quality and quantity is really nice. Food delivered in time . Packing was also very good.......\n",
      "Aastha 5 This place is definitely one of my favourites for Asian food. Would highly recommend their cheung fun, ebi tempura (sushi) and nasi goreng. I am yet to try a dish here that I didn't like.\n",
      "Soumya Pancholi 4 Absolutely lovvvveee this place. The service, the ambience, the cocktails and of course, the food is absolutely top notch!  Zomato Pro experience on this restaurant just made it better ✌️\n"
     ]
    }
   ],
   "source": [
    "import requests\n",
    "import json\n",
    "headers = {'Accept':'application/json','user-key':'627c28c07ad221c65491bbffea6f5d54'}\n",
    "url = 'https://developers.zomato.com/api/v2.1/reviews'\n",
    "\n",
    "reviews = requests.get(url,params = {'res_id':18429148},headers = headers)\n",
    "reviews_python = json.loads(reviews.text)\n",
    "for i in reviews_python['user_reviews']:\n",
    "    print(i['review']['user']['name'],i['review']['rating'],i['review']['review_text'])"
   ]
  },
  {
   "cell_type": "markdown",
   "id": "ab74100d",
   "metadata": {},
   "source": [
    "### Question 10\n",
    "\n",
    "Fetch the cuisine_id of of cuisine ‘BBQ’ using Zomato API.\n",
    "Print the cuisine_id"
   ]
  },
  {
   "cell_type": "code",
   "execution_count": 97,
   "id": "a6a9acea",
   "metadata": {},
   "outputs": [
    {
     "name": "stdout",
     "output_type": "stream",
     "text": [
      "193\n"
     ]
    }
   ],
   "source": [
    "import requests\n",
    "import json\n",
    "headers = {'Accept':'application/json','user-key':'627c28c07ad221c65491bbffea6f5d54'}\n",
    "url = 'https://developers.zomato.com/api/v2.1/cuisines'\n",
    "\n",
    "cuisines = requests.get(url,params = {'city_id':1},headers = headers)\n",
    "cuisines_python = json.loads(cuisines.text)\n",
    "for i in cuisines_python['cuisines']:\n",
    "    if (i['cuisine']['cuisine_name']) == 'BBQ':\n",
    "        print(i['cuisine']['cuisine_id'])"
   ]
  },
  {
   "cell_type": "markdown",
   "id": "2d98ee16",
   "metadata": {},
   "source": [
    "### Question 11 \n",
    "\n",
    "Fetch the list of the top 10 restaurants serving cuisine ‘BBQ’ which are nearest to Coding Ninjas.\n",
    "Print the restaurant name, user rating, restaurant id and locality in which restaurant is present."
   ]
  },
  {
   "cell_type": "code",
   "execution_count": 105,
   "id": "7d6f8994",
   "metadata": {},
   "outputs": [
    {
     "name": "stdout",
     "output_type": "stream",
     "text": [
      "Tandoori Nights 0 19661940 Pitampura\n",
      "UBQ by Barbeque Nation 3.5 18889769 Netaji Subhash Place\n",
      "Barbeque Nation 4.0 9561 Netaji Subhash Place\n",
      "Jungal Raaj 0 19786712 Rohini\n",
      "Anytime Chicken 0 19520153 Shalimar Bagh\n",
      "UBQ by Barbeque Nation 4.0 19082741 Lawrence Road\n",
      "Moet's Barbeque 0 19238917 Alipur\n",
      "The Tangdi Club 0 19779002 Rohini\n",
      "BBQ Express By The Barbeque Company 3.8 19494102 Punjabi Bagh\n",
      "UBQ by Barbeque Nation 3.7 18889760 Rohini\n"
     ]
    }
   ],
   "source": [
    "import requests\n",
    "import json\n",
    "\n",
    "headers = {'Accept':'application/json','user-key':'627c28c07ad221c65491bbffea6f5d54'}\n",
    "url = 'https://developers.zomato.com/api/v2.1/search'\n",
    "data = {'lat':28.697513,'lon':77.140622,'cuisines':193,'sort':'real_distance','order':'asc','count':10}\n",
    "top_10_near_cn = requests.get(url,params = data,headers = headers)\n",
    "top_10_near_cn_python_data = json.loads(top_10_near_cn.text)\n",
    "for i in top_10_near_cn_python_data['restaurants']:\n",
    "    print(i['restaurant']['name'],i['restaurant']['user_rating']['aggregate_rating'],i['restaurant']['R']['res_id'],i['restaurant']['location']['locality'])"
   ]
  },
  {
   "cell_type": "markdown",
   "id": "6d27def2",
   "metadata": {},
   "source": [
    "### Question 12\n",
    "\n",
    "Fetch the latest review of the restaurant serving cuisine ‘BBQ’ which is most nearest to Coding ninjas?\n",
    "Print the name of user ,user rating and review text."
   ]
  },
  {
   "cell_type": "code",
   "execution_count": 4,
   "id": "bce9811d",
   "metadata": {},
   "outputs": [
    {
     "name": "stdout",
     "output_type": "stream",
     "text": [
      "Ridhika Jain 5 \n",
      "KIM KALYANI 5 Really amazing packing, taste and quality. loved it to bits 😍 Highly recommended 🥳\n",
      "KIM KALYANI 5 Amazing dishes of chicken, loved all the items😍 must visit for non veg lovers. Very nice staff too👍\n"
     ]
    }
   ],
   "source": [
    "import requests\n",
    "import json\n",
    "url = 'https://developers.zomato.com/api/v2.1/reviews'\n",
    "headers = {'Accept':'application/json','user-key':'627c28c07ad221c65491bbffea6f5d54'}\n",
    "data = {'res_id':19661940}\n",
    "\n",
    "reviews_cn = requests.get(url,params = data,headers = headers)\n",
    "reviews_cn_python = json.loads(reviews_cn.text)\n",
    "for i in reviews_cn_python['user_reviews']:\n",
    "    print(i['review']['user']['name'],i['review']['rating'],i['review']['review_text'])\n",
    "\n",
    "\n",
    "\n",
    "\n"
   ]
  },
  {
   "cell_type": "markdown",
   "id": "97cd142a",
   "metadata": {},
   "source": [
    "### Question 13 \n",
    "\n",
    "Experiment with the radius parameter that is present in ‘GET/search’. Fetch the list of top 10 best-restaurant present in a radius of 4 km of coding ninjas.\n",
    "Print the restaurant name, user rating, restaurant id and locality in which restaurant is present."
   ]
  },
  {
   "cell_type": "code",
   "execution_count": 10,
   "id": "c023ad28",
   "metadata": {},
   "outputs": [
    {
     "name": "stdout",
     "output_type": "stream",
     "text": [
      "Indian Accent 4.9 2004 The Lodhi, Lodhi Road\n",
      "The Big Chill 4.9 1614 Khan Market\n",
      "Kuremal Mohan Lal Kulfi Wale 4.9 303642 Chawri Bazar\n",
      "Dum-Pukht - ITC Maurya 4.9 2744 ITC Maurya, Chanakyapuri\n",
      "The Big Chill 4.9 8244 Khan Market\n",
      "The Cosmic Kitchen 4.9 19248442 Elements One Mall, Sector 49\n",
      "The Big Chill Cafe 4.8 18919107 The Colonnade, Connaught Place\n",
      "The Big Chill 4.8 3192 DLF Avenue, Saket\n",
      "The Big Chill Cakery 4.8 18665943 Khan Market\n",
      "The Big Chill 4.8 3190 Kailash Colony\n"
     ]
    }
   ],
   "source": [
    "import requests\n",
    "import json\n",
    "headers = {'Accept':'application/json','user-key':'627c28c07ad221c65491bbffea6f5d54'}\n",
    "url = 'https://developers.zomato.com/api/v2.1/search'\n",
    "data = {'lat':28.697513,'lon':77.140622,'count':10,'radius':4000,'sort':'rating','order':'dsc'}\n",
    "\n",
    "top_10_cn_4km = requests.get(url,params = data , headers = headers)\n",
    "top_10_cn_4km_python_data = json.loads(top_10_cn_4km.text)\n",
    "\n",
    "for i in top_10_cn_4km_python_data['restaurants']:\n",
    "    print(i['restaurant']['name'],i['restaurant']['user_rating']['aggregate_rating'],i['restaurant']['R']['res_id'],i['restaurant']['location']['locality'])\n",
    "    "
   ]
  },
  {
   "cell_type": "code",
   "execution_count": null,
   "id": "8d7fa19f",
   "metadata": {},
   "outputs": [],
   "source": []
  },
  {
   "cell_type": "code",
   "execution_count": null,
   "id": "b3057c9c",
   "metadata": {},
   "outputs": [],
   "source": []
  },
  {
   "cell_type": "code",
   "execution_count": null,
   "id": "99bfa15d",
   "metadata": {},
   "outputs": [],
   "source": []
  }
 ],
 "metadata": {
  "kernelspec": {
   "display_name": "Python 3",
   "language": "python",
   "name": "python3"
  },
  "language_info": {
   "codemirror_mode": {
    "name": "ipython",
    "version": 3
   },
   "file_extension": ".py",
   "mimetype": "text/x-python",
   "name": "python",
   "nbconvert_exporter": "python",
   "pygments_lexer": "ipython3",
   "version": "3.8.8"
  }
 },
 "nbformat": 4,
 "nbformat_minor": 5
}
